{
 "cells": [
  {
   "cell_type": "markdown",
   "metadata": {},
   "source": [
    "This notebook is to demonstrate several techniques of linear regression from OLS to gradient descent. It is to be used alongside medium blog post related to this topic.\n",
    "\n",
    "<br>\n",
    "\n",
    "__Link to medium article__: "
   ]
  },
  {
   "cell_type": "code",
   "execution_count": 1,
   "metadata": {
    "ExecuteTime": {
     "end_time": "2020-08-05T10:14:42.366222Z",
     "start_time": "2020-08-05T10:14:40.631287Z"
    }
   },
   "outputs": [],
   "source": [
    "SEED = 121\n",
    "import numpy as np\n",
    "import pandas as pd\n",
    "import matplotlib.pyplot as plt\n",
    "import math\n",
    "import random\n",
    "\n",
    "random.seed(SEED)\n",
    "import statsmodels.api as sm\n",
    "from sklearn.linear_model import LinearRegression, SGDRegressor\n",
    "from sklearn.datasets import make_regression\n",
    "from sklearn.metrics import r2_score, mean_absolute_error, mean_squared_error\n",
    "%matplotlib inline\n",
    "\n",
    "np.set_printoptions(suppress=True)"
   ]
  },
  {
   "cell_type": "code",
   "execution_count": 2,
   "metadata": {
    "ExecuteTime": {
     "end_time": "2020-08-05T10:14:42.377152Z",
     "start_time": "2020-08-05T10:14:42.369172Z"
    }
   },
   "outputs": [],
   "source": [
    "def print_regress_metric(actual, prediction,\n",
    "                         output_return_bool: bool=False):\n",
    "    output = dict()\n",
    "    _r2 = r2_score(actual, prediction)\n",
    "    _mae = mean_absolute_error(actual, prediction)\n",
    "    _mse = mean_squared_error(actual, prediction)\n",
    "    _rmse = math.sqrt(_mse)\n",
    "    print(f'r2 score = {_r2}\\nmae = {_mae}')\n",
    "    print(f'mse = {_mse}\\nrmse = {_rmse}')\n",
    "    if output_return_bool:\n",
    "        output['r2'] = _r2\n",
    "        output['mae'] = _mae\n",
    "        output['mse'] = _mse\n",
    "        output['rmse'] = _rmse\n",
    "        \n",
    "    return output\n",
    "\n"
   ]
  },
  {
   "cell_type": "markdown",
   "metadata": {},
   "source": [
    "## Closed Form Equation"
   ]
  },
  {
   "cell_type": "markdown",
   "metadata": {},
   "source": [
    "### Quick example using 1 input feature\n",
    "\n",
    "Generate sample data for linear regression (one input)"
   ]
  },
  {
   "cell_type": "code",
   "execution_count": 3,
   "metadata": {
    "ExecuteTime": {
     "end_time": "2020-08-05T10:14:42.402102Z",
     "start_time": "2020-08-05T10:14:42.379145Z"
    }
   },
   "outputs": [],
   "source": [
    "X, y, coef = make_regression(n_samples=10000, n_features=1, noise=12.3, \n",
    "                             bias=32, random_state=SEED, coef=True)"
   ]
  },
  {
   "cell_type": "code",
   "execution_count": 4,
   "metadata": {
    "ExecuteTime": {
     "end_time": "2020-08-05T10:14:42.672867Z",
     "start_time": "2020-08-05T10:14:42.404097Z"
    }
   },
   "outputs": [
    {
     "data": {
      "image/png": "[encoded data removed]",
      "text/plain": [
       "<Figure size 720x432 with 1 Axes>"
      ]
     },
     "metadata": {
      "needs_background": "light"
     },
     "output_type": "display_data"
    }
   ],
   "source": [
    "plt.figure(figsize=(10, 6))\n",
    "plt.scatter(X, y)\n",
    "plt.xlabel('X - input')\n",
    "plt.ylabel('y - label')\n",
    "plt.show()"
   ]
  },
  {
   "cell_type": "markdown",
   "metadata": {},
   "source": [
    "Add constant column to compute the $B_0$ (intercept)"
   ]
  },
  {
   "cell_type": "code",
   "execution_count": 5,
   "metadata": {
    "ExecuteTime": {
     "end_time": "2020-08-05T10:14:42.684321Z",
     "start_time": "2020-08-05T10:14:42.675834Z"
    }
   },
   "outputs": [],
   "source": [
    "X_ = sm.add_constant(X)\n",
    "model = sm.OLS(y, X_).fit()\n",
    "y_pred = model.predict(X_)"
   ]
  },
  {
   "cell_type": "markdown",
   "metadata": {},
   "source": [
    "We can get the detail of model (weight and constant) using command below."
   ]
  },
  {
   "cell_type": "code",
   "execution_count": 6,
   "metadata": {
    "ExecuteTime": {
     "end_time": "2020-08-05T10:14:42.698816Z",
     "start_time": "2020-08-05T10:14:42.687850Z"
    }
   },
   "outputs": [
    {
     "data": {
      "text/plain": [
       "array([31.93475598, 59.47275673])"
      ]
     },
     "execution_count": 6,
     "metadata": {},
     "output_type": "execute_result"
    }
   ],
   "source": [
    "model.params"
   ]
  },
  {
   "cell_type": "code",
   "execution_count": 7,
   "metadata": {
    "ExecuteTime": {
     "end_time": "2020-08-05T10:14:42.719758Z",
     "start_time": "2020-08-05T10:14:42.701811Z"
    }
   },
   "outputs": [
    {
     "data": {
      "text/html": [
       "<table class=\"simpletable\">\n",
       "<caption>OLS Regression Results</caption>\n",
       "<tr>\n",
       "  <th>Dep. Variable:</th>            <td>y</td>        <th>  R-squared:         </th> <td>   0.958</td> \n",
       "</tr>\n",
       "<tr>\n",
       "  <th>Model:</th>                   <td>OLS</td>       <th>  Adj. R-squared:    </th> <td>   0.958</td> \n",
       "</tr>\n",
       "<tr>\n",
       "  <th>Method:</th>             <td>Least Squares</td>  <th>  F-statistic:       </th> <td>2.262e+05</td>\n",
       "</tr>\n",
       "<tr>\n",
       "  <th>Date:</th>             <td>Wed, 05 Aug 2020</td> <th>  Prob (F-statistic):</th>  <td>  0.00</td>  \n",
       "</tr>\n",
       "<tr>\n",
       "  <th>Time:</th>                 <td>17:14:42</td>     <th>  Log-Likelihood:    </th> <td> -39421.</td> \n",
       "</tr>\n",
       "<tr>\n",
       "  <th>No. Observations:</th>      <td> 10000</td>      <th>  AIC:               </th> <td>7.885e+04</td>\n",
       "</tr>\n",
       "<tr>\n",
       "  <th>Df Residuals:</th>          <td>  9998</td>      <th>  BIC:               </th> <td>7.886e+04</td>\n",
       "</tr>\n",
       "<tr>\n",
       "  <th>Df Model:</th>              <td>     1</td>      <th>                     </th>     <td> </td>    \n",
       "</tr>\n",
       "<tr>\n",
       "  <th>Covariance Type:</th>      <td>nonrobust</td>    <th>                     </th>     <td> </td>    \n",
       "</tr>\n",
       "</table>\n",
       "<table class=\"simpletable\">\n",
       "<tr>\n",
       "    <td></td>       <th>coef</th>     <th>std err</th>      <th>t</th>      <th>P>|t|</th>  <th>[0.025</th>    <th>0.975]</th>  \n",
       "</tr>\n",
       "<tr>\n",
       "  <th>const</th> <td>   31.9348</td> <td>    0.125</td> <td>  256.093</td> <td> 0.000</td> <td>   31.690</td> <td>   32.179</td>\n",
       "</tr>\n",
       "<tr>\n",
       "  <th>x1</th>    <td>   59.4728</td> <td>    0.125</td> <td>  475.573</td> <td> 0.000</td> <td>   59.228</td> <td>   59.718</td>\n",
       "</tr>\n",
       "</table>\n",
       "<table class=\"simpletable\">\n",
       "<tr>\n",
       "  <th>Omnibus:</th>       <td> 4.469</td> <th>  Durbin-Watson:     </th> <td>   2.005</td>\n",
       "</tr>\n",
       "<tr>\n",
       "  <th>Prob(Omnibus):</th> <td> 0.107</td> <th>  Jarque-Bera (JB):  </th> <td>   4.766</td>\n",
       "</tr>\n",
       "<tr>\n",
       "  <th>Skew:</th>          <td> 0.006</td> <th>  Prob(JB):          </th> <td>  0.0923</td>\n",
       "</tr>\n",
       "<tr>\n",
       "  <th>Kurtosis:</th>      <td> 3.106</td> <th>  Cond. No.          </th> <td>    1.01</td>\n",
       "</tr>\n",
       "</table><br/><br/>Warnings:<br/>[1] Standard Errors assume that the covariance matrix of the errors is correctly specified."
      ],
      "text/plain": [
       "<class 'statsmodels.iolib.summary.Summary'>\n",
       "\"\"\"\n",
       "                            OLS Regression Results                            \n",
       "==============================================================================\n",
       "Dep. Variable:                      y   R-squared:                       0.958\n",
       "Model:                            OLS   Adj. R-squared:                  0.958\n",
       "Method:                 Least Squares   F-statistic:                 2.262e+05\n",
       "Date:                Wed, 05 Aug 2020   Prob (F-statistic):               0.00\n",
       "Time:                        17:14:42   Log-Likelihood:                -39421.\n",
       "No. Observations:               10000   AIC:                         7.885e+04\n",
       "Df Residuals:                    9998   BIC:                         7.886e+04\n",
       "Df Model:                           1                                         \n",
       "Covariance Type:            nonrobust                                         \n",
       "==============================================================================\n",
       "                 coef    std err          t      P>|t|      [0.025      0.975]\n",
       "------------------------------------------------------------------------------\n",
       "const         31.9348      0.125    256.093      0.000      31.690      32.179\n",
       "x1            59.4728      0.125    475.573      0.000      59.228      59.718\n",
       "==============================================================================\n",
       "Omnibus:                        4.469   Durbin-Watson:                   2.005\n",
       "Prob(Omnibus):                  0.107   Jarque-Bera (JB):                4.766\n",
       "Skew:                           0.006   Prob(JB):                       0.0923\n",
       "Kurtosis:                       3.106   Cond. No.                         1.01\n",
       "==============================================================================\n",
       "\n",
       "Warnings:\n",
       "[1] Standard Errors assume that the covariance matrix of the errors is correctly specified.\n",
       "\"\"\""
      ]
     },
     "execution_count": 7,
     "metadata": {},
     "output_type": "execute_result"
    }
   ],
   "source": [
    "model.summary()"
   ]
  },
  {
   "cell_type": "code",
   "execution_count": 8,
   "metadata": {
    "ExecuteTime": {
     "end_time": "2020-08-05T10:14:42.729734Z",
     "start_time": "2020-08-05T10:14:42.721753Z"
    }
   },
   "outputs": [
    {
     "name": "stdout",
     "output_type": "stream",
     "text": [
      "r2 score = 0.9576657278190526\n",
      "mae = 9.895529550837542\n",
      "mse = 155.4631293828212\n",
      "rmse = 12.468485448634938\n"
     ]
    }
   ],
   "source": [
    "_ = print_regress_metric(y, y_pred)"
   ]
  },
  {
   "attachments": {
    "image.png": {
     "image/png": "[encoded data removed]"
    }
   },
   "cell_type": "markdown",
   "metadata": {},
   "source": [
    "Alternatively, we can find the equation by means of analytical.\n",
    "\n",
    "__Remark__: we know the formula of single linear regression from the below formula.\n",
    "\n",
    "![image.png](attachment:image.png)\n"
   ]
  },
  {
   "cell_type": "code",
   "execution_count": 9,
   "metadata": {
    "ExecuteTime": {
     "end_time": "2020-08-05T10:14:42.842431Z",
     "start_time": "2020-08-05T10:14:42.731726Z"
    }
   },
   "outputs": [
    {
     "name": "stdout",
     "output_type": "stream",
     "text": [
      "constant: [31.93475598], weight: [59.47275673]\n"
     ]
    }
   ],
   "source": [
    "x_mean = np.mean(X)\n",
    "y_mean = np.mean(y)\n",
    "n = len(X)\n",
    "\n",
    "numerator = 0\n",
    "denominator = 0\n",
    "for i in range(n):\n",
    "    numerator += (X[i] - x_mean) * (y[i] - y_mean)\n",
    "    denominator += (X[i] - x_mean) ** 2\n",
    "    \n",
    "b1 = numerator / denominator\n",
    "b0 = y_mean - (b1 * x_mean)\n",
    "print(f'constant: {b0}, weight: {b1}')"
   ]
  },
  {
   "cell_type": "code",
   "execution_count": 10,
   "metadata": {
    "ExecuteTime": {
     "end_time": "2020-08-05T10:14:42.850408Z",
     "start_time": "2020-08-05T10:14:42.844426Z"
    }
   },
   "outputs": [
    {
     "data": {
      "text/plain": [
       "array([31.93475598, 59.47275673])"
      ]
     },
     "execution_count": 10,
     "metadata": {},
     "output_type": "execute_result"
    }
   ],
   "source": [
    "# or we can use the matrix formulation\n",
    "np.dot(np.linalg.inv(np.dot(X_.T, X_)), np.dot(X_.T, y))"
   ]
  },
  {
   "cell_type": "markdown",
   "metadata": {},
   "source": [
    "Let's visualize the best-fitting line from the model"
   ]
  },
  {
   "cell_type": "code",
   "execution_count": 11,
   "metadata": {
    "ExecuteTime": {
     "end_time": "2020-08-05T10:14:43.234381Z",
     "start_time": "2020-08-05T10:14:42.852403Z"
    }
   },
   "outputs": [
    {
     "data": {
      "image/png": "[encoded data removed]",
      "text/plain": [
       "<Figure size 720x432 with 1 Axes>"
      ]
     },
     "metadata": {
      "needs_background": "light"
     },
     "output_type": "display_data"
    }
   ],
   "source": [
    "plt.figure(figsize=(10, 6))\n",
    "plt.scatter(X, y)\n",
    "plt.xlabel('X - input')\n",
    "plt.ylabel('y - label')\n",
    "plt.plot(X, y_pred, '--', color='red', linewidth=1, label='pred')\n",
    "plt.legend()\n",
    "plt.show()"
   ]
  },
  {
   "cell_type": "markdown",
   "metadata": {},
   "source": [
    "Recap all 3 methods:"
   ]
  },
  {
   "cell_type": "code",
   "execution_count": 12,
   "metadata": {
    "ExecuteTime": {
     "end_time": "2020-08-05T10:14:43.247346Z",
     "start_time": "2020-08-05T10:14:43.236386Z"
    }
   },
   "outputs": [
    {
     "name": "stdout",
     "output_type": "stream",
     "text": [
      "Method 1: matrix formulation\n",
      "[31.93475598 59.47275673]\n",
      "Method 2: statsmodels\n",
      "[31.93475598 59.47275673]\n",
      "Method 3: sklearn.linear_model.LinearRegression\n",
      "Intercept: 31.934755978934795, coeff: [59.47275673]\n"
     ]
    }
   ],
   "source": [
    "# matrix formulation\n",
    "import numpy as np\n",
    "import statsmodels.api as sm\n",
    "from sklearn.linear_model import LinearRegression\n",
    "\n",
    "X_ = sm.add_constant(X)  # add constant for intercept computation\n",
    "print('Method 1: matrix formulation')\n",
    "print(np.dot(np.linalg.inv(np.dot(X_.T, X_)), np.dot(X_.T, y)))\n",
    "\n",
    "# statsmodels lib\n",
    "model = sm.OLS(y, X_).fit()\n",
    "print('Method 2: statsmodels')\n",
    "print(f'{model.params}')\n",
    "\n",
    "# LinearRegression\n",
    "print('Method 3: sklearn.linear_model.LinearRegression')\n",
    "lr_model = LinearRegression(fit_intercept=True)\n",
    "lr_model.fit(X, y)\n",
    "y_pred = lr_model.predict(X)\n",
    "print(f'Intercept: {lr_model.intercept_}, coeff: {lr_model.coef_}')"
   ]
  },
  {
   "cell_type": "markdown",
   "metadata": {},
   "source": [
    "And let's see the actual weight which is used to generate the data, we know that bias = 32 (the intercept).\n",
    "\n",
    "\n",
    "__Remark__: the function is `make_regression(n_samples=10000, n_features=1, noise=12.3, bias=32, random_state=SEED, coef=True)` used to generate the data"
   ]
  },
  {
   "cell_type": "code",
   "execution_count": 13,
   "metadata": {
    "ExecuteTime": {
     "end_time": "2020-08-05T10:14:43.254328Z",
     "start_time": "2020-08-05T10:14:43.249341Z"
    }
   },
   "outputs": [
    {
     "data": {
      "text/plain": [
       "array(59.51032958)"
      ]
     },
     "execution_count": 13,
     "metadata": {},
     "output_type": "execute_result"
    }
   ],
   "source": [
    "coef"
   ]
  },
  {
   "cell_type": "markdown",
   "metadata": {},
   "source": [
    "### What about multiple linear regression (5 inputs)\n",
    "\n",
    "Let's generate the data"
   ]
  },
  {
   "cell_type": "code",
   "execution_count": 14,
   "metadata": {
    "ExecuteTime": {
     "end_time": "2020-08-05T10:14:43.266303Z",
     "start_time": "2020-08-05T10:14:43.256322Z"
    }
   },
   "outputs": [
    {
     "name": "stdout",
     "output_type": "stream",
     "text": [
      "[ 0.         46.52070862  0.         53.71552925 34.014085  ]\n"
     ]
    }
   ],
   "source": [
    "X, y, coef = make_regression(n_samples=10000, n_features=5, noise=12.3, \n",
    "                             bias=100, n_informative=3, random_state=SEED, coef=True)\n",
    "print(coef)"
   ]
  },
  {
   "cell_type": "markdown",
   "metadata": {
    "ExecuteTime": {
     "end_time": "2020-08-04T10:19:56.649250Z",
     "start_time": "2020-08-04T10:19:56.641252Z"
    }
   },
   "source": [
    "Matrix factorization method"
   ]
  },
  {
   "cell_type": "code",
   "execution_count": 15,
   "metadata": {
    "ExecuteTime": {
     "end_time": "2020-08-05T10:14:43.280258Z",
     "start_time": "2020-08-05T10:14:43.269288Z"
    }
   },
   "outputs": [
    {
     "name": "stdout",
     "output_type": "stream",
     "text": [
      "weights: [100.16405412   0.10753949  46.24637192   0.09886226  53.62397801\n",
      "  33.88360667]\n",
      "r2 score = 0.9762059818259242\n",
      "mae = 9.72718617890272\n",
      "mse = 149.82489167156163\n",
      "rmse = 12.240297858776216\n"
     ]
    }
   ],
   "source": [
    "X_ = np.c_[np.ones(X.shape[0]), X] \n",
    "coef_ = np.dot(np.linalg.inv(np.dot(X_.T, X_)), np.dot(X_.T, y))\n",
    "print(f'weights: {coef_}')\n",
    "y_pred = np.dot(X_, coef_)\n",
    "_ = print_regress_metric(y, y_pred)"
   ]
  },
  {
   "cell_type": "code",
   "execution_count": 16,
   "metadata": {
    "ExecuteTime": {
     "end_time": "2020-08-05T10:14:43.293223Z",
     "start_time": "2020-08-05T10:14:43.282253Z"
    }
   },
   "outputs": [
    {
     "name": "stdout",
     "output_type": "stream",
     "text": [
      "Weights: [100.16405412   0.10753949  46.24637192   0.09886226  53.62397801\n",
      "  33.88360667]\n",
      "r2 score = 0.9762059818259242\n",
      "mae = 9.727186178902722\n",
      "mse = 149.82489167156163\n",
      "rmse = 12.240297858776216\n"
     ]
    }
   ],
   "source": [
    "model = sm.OLS(y, X_).fit()\n",
    "y_pred = model.predict(X_)\n",
    "print(f'Weights: {model.params}')\n",
    "_ = print_regress_metric(y, y_pred)"
   ]
  },
  {
   "cell_type": "code",
   "execution_count": 17,
   "metadata": {
    "ExecuteTime": {
     "end_time": "2020-08-05T10:14:43.304194Z",
     "start_time": "2020-08-05T10:14:43.295218Z"
    }
   },
   "outputs": [
    {
     "name": "stdout",
     "output_type": "stream",
     "text": [
      "Intercept: 100.16405412237575, coeff: [ 0.10753949 46.24637192  0.09886226 53.62397801 33.88360667]\n",
      "r2 score = 0.9762059818259242\n",
      "mae = 9.727186178902718\n",
      "mse = 149.82489167156163\n",
      "rmse = 12.240297858776216\n"
     ]
    }
   ],
   "source": [
    "lr_model = LinearRegression(fit_intercept=True)\n",
    "lr_model.fit(X, y)\n",
    "y_pred = lr_model.predict(X)\n",
    "print(f'Intercept: {lr_model.intercept_}, coeff: {lr_model.coef_}')\n",
    "_ = print_regress_metric(y, y_pred)"
   ]
  },
  {
   "cell_type": "markdown",
   "metadata": {},
   "source": [
    "As demonstrated all methods are getting the same result."
   ]
  },
  {
   "cell_type": "markdown",
   "metadata": {},
   "source": [
    "## Batch Gradient Descent"
   ]
  },
  {
   "cell_type": "code",
   "execution_count": 18,
   "metadata": {
    "ExecuteTime": {
     "end_time": "2020-08-05T10:14:43.310179Z",
     "start_time": "2020-08-05T10:14:43.306190Z"
    }
   },
   "outputs": [],
   "source": [
    "learning_rate = 0.01\n",
    "n_epochs = 1000"
   ]
  },
  {
   "cell_type": "code",
   "execution_count": 19,
   "metadata": {
    "ExecuteTime": {
     "end_time": "2020-08-05T10:14:43.694661Z",
     "start_time": "2020-08-05T10:14:43.312192Z"
    }
   },
   "outputs": [
    {
     "name": "stdout",
     "output_type": "stream",
     "text": [
      "Iter 0 | J: 7857.757942914452 | theta: [1. 1. 1. 1. 1. 1.]\n",
      "Iter 100 | J: 1140.2858822496407 | theta: [63.56936224  0.60687204 29.83707227  0.28811573 33.3602412  22.2054822 ]\n",
      "Iter 200 | J: 221.0292563127599 | theta: [86.650843    0.35333247 40.29640822  0.12375235 45.82867986 29.74723248]\n",
      "Iter 300 | J: 94.99138804530706 | theta: [95.17087095  0.22052935 44.08940586  0.09445931 50.62780176 32.42287331]\n",
      "Iter 400 | J: 77.67703463582957 | theta: [98.3178635   0.15731469 45.46463135  0.09335923 52.47327546 33.36950366]\n",
      "Iter 500 | J: 75.29384111996183 | theta: [99.48099682  0.12883922 45.96313053  0.09583116 53.18235096 33.7033688 ]\n",
      "Iter 600 | J: 74.96516643778459 | theta: [99.91117059  0.11646428 46.14378109  0.09753811 53.454592   33.82069919]\n",
      "Iter 700 | J: 74.91974797407457 | theta: [100.07036961   0.11122003  46.20922698   0.0983599   53.55904611\n",
      "  33.86176411]\n",
      "Iter 800 | J: 74.91345925215037 | theta: [100.12932452   0.10903857  46.2329285    0.09869546  53.59909951\n",
      "  33.87606867]\n",
      "Iter 900 | J: 74.9125867635408 | theta: [100.15117112   0.10814402  46.24150877   0.09881657  53.61445005\n",
      "  33.88102405]\n",
      "End Iter: J: 74.9124658635448 | theta: [100.159272     0.1077813   46.2446136    0.09885469  53.6203304\n",
      "  33.88272954]\n",
      "r2 score = 0.9762059755886993\n",
      "mae = 9.727166135313517\n",
      "mse = 149.8249309457838\n",
      "rmse = 12.240299463076212\n"
     ]
    }
   ],
   "source": [
    "def batch_gradient_descent(learning_rate, X, y, epochs: int,\n",
    "                           return_model_result: bool=True):\n",
    "    # initial outputs\n",
    "    mse_ = []\n",
    "    cost_ = []\n",
    "    theta_ = []\n",
    "    n = X.shape[0]\n",
    "    theta = np.ones(X.shape[1])  # set default weights\n",
    "    X_transpose = X.T\n",
    "    for i in range(0, epochs):\n",
    "        hypothesis = np.dot(X, theta)\n",
    "        loss = hypothesis - y\n",
    "        J = np.sum(loss ** 2) / (2 * n)  # cost\n",
    "        if i % 100 == 0:\n",
    "            print(f'Iter {i} | J: {J} | theta: {theta}')\n",
    "            \n",
    "        gradient = np.dot(X_transpose, loss) / n  \n",
    "        y_pred = np.dot(X, theta)\n",
    "        mse_.append(mean_squared_error(y, y_pred))\n",
    "        cost_.append(J)\n",
    "        theta_.append(theta)\n",
    "        theta = theta - learning_rate * gradient  # update\n",
    "        \n",
    "    print(f'End Iter: J: {J} | theta: {theta}')\n",
    "    y_pred = np.dot(X, theta)\n",
    "    mse_.append(mean_squared_error(y, y_pred))\n",
    "    cost_.append(J)\n",
    "    theta_.append(theta)\n",
    "    if return_model_result:\n",
    "        _ = print_regress_metric(y, y_pred)\n",
    "        \n",
    "    return cost_, theta_, mse_\n",
    "\n",
    "\n",
    "X_ = np.c_[np.ones(X.shape[0]), X]  # insert column\n",
    "_J, _theta, _mse = batch_gradient_descent(learning_rate=learning_rate, \n",
    "                                          X=X_, y=y, epochs=n_epochs)"
   ]
  },
  {
   "cell_type": "code",
   "execution_count": 20,
   "metadata": {
    "ExecuteTime": {
     "end_time": "2020-08-05T10:14:43.970386Z",
     "start_time": "2020-08-05T10:14:43.696656Z"
    }
   },
   "outputs": [
    {
     "data": {
      "image/png": "[encoded data removed]",
      "text/plain": [
       "<Figure size 936x576 with 2 Axes>"
      ]
     },
     "metadata": {
      "needs_background": "light"
     },
     "output_type": "display_data"
    }
   ],
   "source": [
    "fig, axs = plt.subplots(2, sharex=True, figsize=(13, 8))\n",
    "fig.suptitle('Batch GD performance')\n",
    "axs[0].plot(_J)\n",
    "axs[0].set_title('Cost each epoch')\n",
    "axs[0].set(ylabel='Cost')\n",
    "axs[1].plot(_mse)\n",
    "axs[1].set_title('MSE each epoch')\n",
    "axs[1].set(ylabel='MSE', xlabel='epoch')\n",
    "plt.show()"
   ]
  },
  {
   "cell_type": "markdown",
   "metadata": {},
   "source": [
    "## Stochastic Gradient Descent\n"
   ]
  },
  {
   "cell_type": "markdown",
   "metadata": {},
   "source": [
    "Now let's implement SGD from scratch."
   ]
  },
  {
   "cell_type": "code",
   "execution_count": 21,
   "metadata": {
    "ExecuteTime": {
     "end_time": "2020-08-05T10:14:43.980360Z",
     "start_time": "2020-08-05T10:14:43.972354Z"
    }
   },
   "outputs": [],
   "source": [
    "def _iter(X, y, \n",
    "          batch_size: int=1):\n",
    "    n_observations = X.shape[0]\n",
    "    idx = list(range(n_observations))\n",
    "    random.shuffle(idx)\n",
    "    for batch_id, i in enumerate(range(0, n_observations, batch_size)):\n",
    "        _pos = np.array(idx[i: min(i + batch_size, n_observations)])\n",
    "        yield batch_id, X.take(_pos, axis=0), y.take(_pos)\n",
    "        \n",
    "\n",
    "def get_pred(X, theta):\n",
    "    '''use the weights to predict the yhat'''\n",
    "    return np.dot(X, theta)\n",
    "\n",
    "\n",
    "def grad_loss(X, y, theta):\n",
    "    ''' \n",
    "    Compute gradient based using MSE\n",
    "      https://math.stackexchange.com/questions/1962877/compute-the-gradient-of-mean-square-error\n",
    "    '''\n",
    "    y_pred = get_pred(X, theta)\n",
    "    error = y_pred - y\n",
    "    loss_gradient = (np.dot(np.transpose(X), error))/(len(X))\n",
    "    return loss_gradient\n"
   ]
  },
  {
   "cell_type": "markdown",
   "metadata": {},
   "source": [
    "In this example, we will use constant learning rate, so no learning rate decaying"
   ]
  },
  {
   "cell_type": "code",
   "execution_count": 22,
   "metadata": {
    "ExecuteTime": {
     "end_time": "2020-08-05T10:14:43.988919Z",
     "start_time": "2020-08-05T10:14:43.982327Z"
    }
   },
   "outputs": [],
   "source": [
    "def _sgd_regressor(X, y, learning_rate, n_epochs, batch_size=1):\n",
    "    mse_log = []\n",
    "    theta_log = []\n",
    "    total_loss_log = []\n",
    "    np.random.seed(SEED)\n",
    "    theta = np.random.rand(len(X[0]))\n",
    "    for i in range(n_epochs+1):\n",
    "        total_error = 0\n",
    "        for batch_id, data, label in _iter(X, y, batch_size):\n",
    "            grad_loss_= grad_loss(data, label, theta)\n",
    "            theta = theta - learning_rate * grad_loss_\n",
    "        \n",
    "        y_pred = get_pred(X, theta)\n",
    "        _mse = mean_squared_error(y, y_pred)\n",
    "        mse_log.append(_mse)\n",
    "        theta_log.append(theta)\n",
    "        if i % 100 == 0:\n",
    "            print(f'Epoch: {i} | MSE: {_mse}')\n",
    "            \n",
    "    return theta, theta_log, mse_log\n",
    "\n"
   ]
  },
  {
   "cell_type": "code",
   "execution_count": 23,
   "metadata": {
    "ExecuteTime": {
     "end_time": "2020-08-05T10:16:38.065310Z",
     "start_time": "2020-08-05T10:14:43.990307Z"
    }
   },
   "outputs": [
    {
     "name": "stdout",
     "output_type": "stream",
     "text": [
      "Epoch: 0 | MSE: 153.04540115821518\n",
      "Epoch: 100 | MSE: 154.44085186372178\n",
      "Epoch: 200 | MSE: 153.85078596098032\n",
      "Epoch: 300 | MSE: 153.6676955203311\n",
      "Epoch: 400 | MSE: 150.91499556602082\n",
      "Epoch: 500 | MSE: 154.67485181260682\n",
      "Epoch: 600 | MSE: 151.58415753706186\n",
      "Epoch: 700 | MSE: 156.73817982553746\n",
      "Epoch: 800 | MSE: 154.27067616596992\n",
      "Epoch: 900 | MSE: 151.90529089317695\n",
      "Epoch: 1000 | MSE: 151.96826982841296\n",
      "Final weights: [100.97503676   0.06986167  45.62307509   0.39058345  53.40644803\n",
      "  32.89482873]\n",
      "r2 score = 0.9758655872609822\n",
      "mae = 9.800269479045237\n",
      "mse = 151.96826982841296\n",
      "rmse = 12.32754111039233\n"
     ]
    }
   ],
   "source": [
    "theta, _, mse_ = _sgd_regressor(X_, y, learning_rate=learning_rate, n_epochs=n_epochs, batch_size=1)\n",
    "y_pred = np.dot(X_, theta)\n",
    "print(f'Final weights: {theta}')\n",
    "_ = print_regress_metric(y, y_pred)"
   ]
  },
  {
   "cell_type": "code",
   "execution_count": 24,
   "metadata": {
    "ExecuteTime": {
     "end_time": "2020-08-05T10:16:38.281246Z",
     "start_time": "2020-08-05T10:16:38.066307Z"
    }
   },
   "outputs": [
    {
     "data": {
      "image/png": "[encoded data removed]",
      "text/plain": [
       "<Figure size 720x432 with 1 Axes>"
      ]
     },
     "metadata": {
      "needs_background": "light"
     },
     "output_type": "display_data"
    }
   ],
   "source": [
    "fig, axs = plt.subplots(1, sharex=True, figsize=(10, 6))\n",
    "fig.suptitle('Stochastic GD performance')\n",
    "axs.plot(mse_)\n",
    "axs.set_title('MSE each epoch')\n",
    "axs.set(ylabel='MSE', xlabel='epoch')\n",
    "plt.show()"
   ]
  },
  {
   "cell_type": "markdown",
   "metadata": {},
   "source": [
    "## Mini Batch Gradient Descent\n",
    "\n",
    "This is similar to SGD but feed batch size ==> `len(X) > batch_size > 1`"
   ]
  },
  {
   "cell_type": "code",
   "execution_count": 25,
   "metadata": {
    "ExecuteTime": {
     "end_time": "2020-08-05T10:16:48.752777Z",
     "start_time": "2020-08-05T10:16:38.282244Z"
    }
   },
   "outputs": [
    {
     "name": "stdout",
     "output_type": "stream",
     "text": [
      "Epoch: 0 | MSE: 449.53960077546174\n",
      "Epoch: 100 | MSE: 149.84340702423697\n",
      "Epoch: 200 | MSE: 149.83389423697255\n",
      "Epoch: 300 | MSE: 149.86166235922667\n",
      "Epoch: 400 | MSE: 149.82745194940117\n",
      "Epoch: 500 | MSE: 149.85772206173098\n",
      "Epoch: 600 | MSE: 149.84853940142662\n",
      "Epoch: 700 | MSE: 149.83885577952643\n",
      "Epoch: 800 | MSE: 149.8347205811635\n",
      "Epoch: 900 | MSE: 149.8670100298715\n",
      "Epoch: 1000 | MSE: 149.8573946336627\n",
      "Final weights: [100.00318323   0.08504223  46.26222115   0.0478891   53.67965285\n",
      "  33.88967953]\n",
      "r2 score = 0.976200819959546\n",
      "mae = 9.728205129299743\n",
      "mse = 149.8573946336627\n",
      "rmse = 12.241625489846628\n"
     ]
    }
   ],
   "source": [
    "theta, _, mse_ = _sgd_regressor(X_, y, learning_rate=learning_rate, n_epochs=n_epochs, batch_size=50)\n",
    "y_pred = np.dot(X_, theta)\n",
    "print(f'Final weights: {theta}')\n",
    "_ = print_regress_metric(y, y_pred)"
   ]
  },
  {
   "cell_type": "code",
   "execution_count": 26,
   "metadata": {
    "ExecuteTime": {
     "end_time": "2020-08-05T10:16:48.887125Z",
     "start_time": "2020-08-05T10:16:48.753774Z"
    }
   },
   "outputs": [
    {
     "data": {
      "image/png": "[encoded data removed]",
      "text/plain": [
       "<Figure size 720x432 with 1 Axes>"
      ]
     },
     "metadata": {
      "needs_background": "light"
     },
     "output_type": "display_data"
    }
   ],
   "source": [
    "fig, axs = plt.subplots(1, sharex=True, figsize=(10, 6))\n",
    "fig.suptitle('Mini-batch GD performance')\n",
    "axs.plot(mse_)\n",
    "axs.set_title('MSE each epoch')\n",
    "axs.set(ylabel='MSE', xlabel='epoch')\n",
    "plt.show()"
   ]
  },
  {
   "cell_type": "code",
   "execution_count": 27,
   "metadata": {
    "ExecuteTime": {
     "end_time": "2020-08-05T10:16:49.018910Z",
     "start_time": "2020-08-05T10:16:48.889120Z"
    }
   },
   "outputs": [
    {
     "data": {
      "image/png": "[encoded data removed]",
      "text/plain": [
       "<Figure size 720x432 with 1 Axes>"
      ]
     },
     "metadata": {
      "needs_background": "light"
     },
     "output_type": "display_data"
    }
   ],
   "source": [
    "fig, axs = plt.subplots(1, sharex=True, figsize=(10, 6))\n",
    "fig.suptitle('Mini-batch GD performance')\n",
    "axs.plot(mse_[0:10])\n",
    "axs.set_title('MSE each epoch')\n",
    "axs.set(ylabel='MSE', xlabel='epoch')\n",
    "plt.show()"
   ]
  },
  {
   "cell_type": "markdown",
   "metadata": {},
   "source": [
    "## SGD Regressor in sci-kit learn"
   ]
  },
  {
   "cell_type": "markdown",
   "metadata": {},
   "source": [
    "We can implement SGDRegressor from `sklearn` library to support mini-batch by building custom generator to feed the __chunk__ of training set.\n",
    "\n",
    "<br>\n",
    "\n",
    "Below script displays how to implement normal and mini-batch SGD regressor."
   ]
  },
  {
   "cell_type": "code",
   "execution_count": 28,
   "metadata": {
    "ExecuteTime": {
     "end_time": "2020-08-05T10:16:49.037400Z",
     "start_time": "2020-08-05T10:16:49.019907Z"
    }
   },
   "outputs": [
    {
     "name": "stdout",
     "output_type": "stream",
     "text": [
      "SGDRegressor(alpha=0.0001, average=False, early_stopping=False, epsilon=0.1,\n",
      "             eta0=0.01, fit_intercept=True, l1_ratio=0.15,\n",
      "             learning_rate='constant', loss='squared_loss', max_iter=1000,\n",
      "             n_iter_no_change=5, penalty='l2', power_t=0.25, random_state=121,\n",
      "             shuffle=True, tol=0.001, validation_fraction=0.1, verbose=0,\n",
      "             warm_start=False)\n",
      "Intercept: [99.324308], weights: [-0.07735028 45.44757928 -0.19159974 52.72339963 35.27975324]\n",
      "r2 score = 0.9755546791965751\n",
      "mae = 9.862206859661491\n",
      "mse = 153.92597897735976\n",
      "rmse = 12.40669089553535\n"
     ]
    }
   ],
   "source": [
    "SGD_rgs_normal = SGDRegressor(fit_intercept=True, random_state=SEED, eta0=learning_rate,\n",
    "                              learning_rate='constant', max_iter=n_epochs)\n",
    "SGD_rgs_normal.fit(X, y)\n",
    "print(SGD_rgs_normal)\n",
    "print(f'Intercept: {SGD_rgs_normal.intercept_}, weights: {SGD_rgs_normal.coef_}')\n",
    "y_pred = SGD_rgs_normal.predict(X)\n",
    "_ = print_regress_metric(y, y_pred)"
   ]
  },
  {
   "cell_type": "code",
   "execution_count": 29,
   "metadata": {
    "ExecuteTime": {
     "end_time": "2020-08-05T10:16:49.073305Z",
     "start_time": "2020-08-05T10:16:49.039397Z"
    },
    "scrolled": true
   },
   "outputs": [
    {
     "name": "stdout",
     "output_type": "stream",
     "text": [
      "SGDRegressor(alpha=0.0001, average=False, early_stopping=False, epsilon=0.1,\n",
      "             eta0=0.01, fit_intercept=True, l1_ratio=0.15,\n",
      "             learning_rate='constant', loss='squared_loss', max_iter=1000,\n",
      "             n_iter_no_change=5, penalty='l2', power_t=0.25, random_state=121,\n",
      "             shuffle=True, tol=0.001, validation_fraction=0.1, verbose=0,\n",
      "             warm_start=False)\n",
      "Intercept: [99.43369967], weights: [-1.65969995 46.49161874 -1.21952065 53.25021942 34.54669358]\n",
      "r2 score = 0.9752638257485646\n",
      "mae = 9.947475639038714\n",
      "mse = 155.75740929827745\n",
      "rmse = 12.480280818085683\n"
     ]
    }
   ],
   "source": [
    "def _get_chunk(X, y, chunkrows):\n",
    "    X_chunk, y_chunk = X[chunkrows], y[chunkrows]\n",
    "    return X_chunk, y_chunk\n",
    "\n",
    "\n",
    "def _iter_minibatch(X, y, chunk_size):\n",
    "    '''\n",
    "    Construct minibatch generator\n",
    "    '''\n",
    "    _start = 0\n",
    "    _total_observation = X.shape[0]\n",
    "    while _start < _total_observation:\n",
    "        chunkrows = range(_start, _start + chunk_size)\n",
    "        X_chunk, y_chunk = _get_chunk(X, y, chunkrows)\n",
    "        yield X_chunk, y_chunk\n",
    "        _start += chunk_size\n",
    "        \n",
    "\n",
    "mini_batch_generator = _iter_minibatch(X=X, y=y, chunk_size=100)\n",
    "SGD_model = SGDRegressor(fit_intercept=True, random_state=SEED, eta0=learning_rate,\n",
    "                         learning_rate='constant', max_iter=n_epochs)\n",
    "for X_chunk, y_chunk in mini_batch_generator:\n",
    "    SGD_model.partial_fit(X_chunk, y_chunk)\n",
    "    \n",
    "y_pred = SGD_model.predict(X)\n",
    "print(SGD_model)\n",
    "print(f'Intercept: {SGD_model.intercept_}, weights: {SGD_model.coef_}')\n",
    "_ = print_regress_metric(y, y_pred)"
   ]
  }
 ],
 "metadata": {
  "kernelspec": {
   "display_name": "Python 3",
   "language": "python",
   "name": "python3"
  },
  "language_info": {
   "codemirror_mode": {
    "name": "ipython",
    "version": 3
   },
   "file_extension": ".py",
   "mimetype": "text/x-python",
   "name": "python",
   "nbconvert_exporter": "python",
   "pygments_lexer": "ipython3",
   "version": "3.6.7"
  },
  "toc": {
   "base_numbering": 1,
   "nav_menu": {},
   "number_sections": true,
   "sideBar": true,
   "skip_h1_title": false,
   "title_cell": "Table of Contents",
   "title_sidebar": "Contents",
   "toc_cell": false,
   "toc_position": {},
   "toc_section_display": true,
   "toc_window_display": true
  }
 },
 "nbformat": 4,
 "nbformat_minor": 2
}
